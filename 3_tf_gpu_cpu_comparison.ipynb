{
 "cells": [
  {
   "cell_type": "markdown",
   "id": "aware-running",
   "metadata": {},
   "source": [
    "# CPU/GPU Comparisons"
   ]
  },
  {
   "cell_type": "code",
   "execution_count": 56,
   "id": "measured-spiritual",
   "metadata": {},
   "outputs": [
    {
     "name": "stdout",
     "output_type": "stream",
     "text": [
      "TF will attempt to allocate only as much GPU memory as needed for the runtime allocations\n"
     ]
    }
   ],
   "source": [
    "import tensorflow as tf\n",
    "gpus = tf.config.list_physical_devices('GPU')\n",
    "if gpus:\n",
    "  try:\n",
    "    # Currently, memory growth needs to be the same across GPUs\n",
    "    for gpu in gpus:\n",
    "      tf.config.experimental.set_memory_growth(gpu, True)\n",
    "    logical_gpus = tf.config.experimental.list_logical_devices('GPU')\n",
    "    print(len(gpus), \"Physical GPUs,\", len(logical_gpus), \"Logical GPUs\")\n",
    "  except RuntimeError as e:\n",
    "    # Memory growth must be set before GPUs have been initialized\n",
    "    print(e)\n",
    "print(\"TF will attempt to allocate only as much GPU memory as needed for the runtime allocations\")"
   ]
  },
  {
   "cell_type": "markdown",
   "id": "based-psychiatry",
   "metadata": {},
   "source": [
    "## Matrix Multiplication Example"
   ]
  },
  {
   "cell_type": "code",
   "execution_count": 57,
   "id": "divine-cattle",
   "metadata": {},
   "outputs": [
    {
     "name": "stdout",
     "output_type": "stream",
     "text": [
      "Time to multiply a (1000, 1000) matrix by itself 200 times:\n",
      "CPU: 1.044842004776001 secs\n",
      "GPU: not found\n",
      "GPU speedup over CPU: 0x\n"
     ]
    }
   ],
   "source": [
    "import time\n",
    "\n",
    "def measure(x, steps):\n",
    "    # TensorFlow initializes a GPU the first time it's used, exclude from timing.\n",
    "    tf.matmul(x, x)\n",
    "    start = time.time()\n",
    "    for i in range(steps):\n",
    "        x = tf.matmul(x, x)\n",
    "    # tf.matmul can return before completing the matrix multiplication\n",
    "    # (e.g., can return after enqueing the operation on a CUDA stream).\n",
    "    # The x.numpy() call below will ensure that all enqueued operations\n",
    "    # have completed (and will also copy the result to host memory,\n",
    "    # so we're including a little more than just the matmul operation time).\n",
    "    _ = x.numpy()\n",
    "    end = time.time()\n",
    "    return end - start\n",
    "\n",
    "shape = (1000, 1000)\n",
    "steps = 200\n",
    "print(\"Time to multiply a {} matrix by itself {} times:\".format(shape, steps))\n",
    "\n",
    "# Run on CPU:\n",
    "with tf.device(\"/cpu:0\"):\n",
    "    cpu_time = measure(tf.random.normal(shape), steps)\n",
    "    print(\"CPU: {} secs\".format(cpu_time))\n",
    "\n",
    "# Run on GPU, if available:\n",
    "if tf.config.list_physical_devices(\"GPU\"):\n",
    "    with tf.device(\"/gpu:0\"):\n",
    "        gpu_time = measure(tf.random.normal(shape), steps)\n",
    "        print(\"GPU: {} secs\".format(gpu_time))\n",
    "else:\n",
    "    print(\"GPU: not found\")\n",
    "\n",
    "print('GPU speedup over CPU: {}x'.format(int(cpu_time/gpu_time)))"
   ]
  },
  {
   "cell_type": "markdown",
   "id": "affiliated-horror",
   "metadata": {},
   "source": [
    "## Spatial Convolution Over Images Example\n",
    "Comparison of time needed to execute a [conv2d](https://www.tensorflow.org/api_docs/python/tf/keras/layers/Conv2D) operation via CPU and GPU. This code started from the TF1 [gist here](https://gist.github.com/pdmack/890aa355eefb92072fc1776b7e959696)."
   ]
  },
  {
   "cell_type": "code",
   "execution_count": 54,
   "id": "gothic-canyon",
   "metadata": {},
   "outputs": [
    {
     "name": "stdout",
     "output_type": "stream",
     "text": [
      "Tensor(\"conv2d_37/BiasAdd:0\", shape=(100, 94, 94, 32), dtype=float32)\n",
      "Tensor(\"conv2d_37/BiasAdd:0\", shape=(100, 94, 94, 32), dtype=float32)\n",
      "Time (s) to convolve 32x7x7x3 filter over random 100x100x100x3 images\n",
      "CPU: 1.554737864999879\n",
      "GPU: 1.549265855000158\n",
      "GPU speedup over CPU: 1x\n"
     ]
    }
   ],
   "source": [
    "import timeit\n",
    "\n",
    "@tf.function\n",
    "def conv_fn():\n",
    "    image = tf.random.normal((100, 100, 100, 3))\n",
    "    tf.keras.layers.Conv2D(32, 7)(image)\n",
    "    net = conv_layer(image)\n",
    "    print(net)\n",
    "    return tf.reduce_sum(net)\n",
    "\n",
    "# warm up\n",
    "conv_fn()\n",
    "\n",
    "print(\"Time (s) to convolve 32x7x7x3 filter over random 100x100x100x3 images\")\n",
    "with tf.device(\"/cpu:0\"):\n",
    "    cpu_time = timeit.timeit(lambda: conv_fn(), number=30)\n",
    "    print(\"CPU:\", cpu_time)\n",
    "with tf.device(\"/gpu:0\"):\n",
    "    gpu_time = timeit.timeit(lambda: conv_fn(), number=30)\n",
    "    print(\"GPU:\", gpu_time)\n",
    "print('GPU speedup over CPU: {}x'.format(int(cpu_time/gpu_time)))"
   ]
  },
  {
   "cell_type": "code",
   "execution_count": null,
   "id": "embedded-network",
   "metadata": {},
   "outputs": [],
   "source": []
  }
 ],
 "metadata": {
  "kernelspec": {
   "display_name": "Python 3",
   "language": "python",
   "name": "python3"
  },
  "language_info": {
   "codemirror_mode": {
    "name": "ipython",
    "version": 3
   },
   "file_extension": ".py",
   "mimetype": "text/x-python",
   "name": "python",
   "nbconvert_exporter": "python",
   "pygments_lexer": "ipython3",
   "version": "3.8.1"
  }
 },
 "nbformat": 4,
 "nbformat_minor": 5
}
