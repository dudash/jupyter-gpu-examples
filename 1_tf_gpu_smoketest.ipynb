{
 "cells": [
  {
   "cell_type": "markdown",
   "id": "bored-morgan",
   "metadata": {},
   "source": [
    "# GPUs are a must for data science\n",
    "GPUs increase performance of data science activities significantly. This notebook checks if your GPU is properly configured and available to be leveraged.\n",
    "\n",
    "[Read TensorFlow docs here](https://www.tensorflow.org/api_docs/python/tf/all_symbols)"
   ]
  },
  {
   "cell_type": "markdown",
   "id": "mobile-authority",
   "metadata": {},
   "source": [
    "## Check the number of GPUs"
   ]
  },
  {
   "cell_type": "code",
   "execution_count": 3,
   "id": "eight-fifteen",
   "metadata": {},
   "outputs": [
    {
     "name": "stdout",
     "output_type": "stream",
     "text": [
      "GPUs count 0\n"
     ]
    }
   ],
   "source": [
    "import tensorflow as tf\n",
    "print(\"GPUs count\", len(tf.config.list_physical_devices('GPU')))"
   ]
  },
  {
   "cell_type": "markdown",
   "id": "secret-settle",
   "metadata": {},
   "source": [
    "## See what else TensorFlow can tell us"
   ]
  },
  {
   "cell_type": "code",
   "execution_count": 8,
   "id": "dress-jungle",
   "metadata": {},
   "outputs": [
    {
     "data": {
      "text/plain": [
       "[name: \"/device:CPU:0\"\n",
       " device_type: \"CPU\"\n",
       " memory_limit: 268435456\n",
       " locality {\n",
       " }\n",
       " incarnation: 13739859749333745835]"
      ]
     },
     "execution_count": 8,
     "metadata": {},
     "output_type": "execute_result"
    }
   ],
   "source": [
    "from tensorflow.python.client import device_lib\n",
    "device_lib.list_local_devices()"
   ]
  },
  {
   "cell_type": "markdown",
   "id": "detailed-validation",
   "metadata": {},
   "source": [
    "## Display details using NVIDIA System Management Interface"
   ]
  },
  {
   "cell_type": "code",
   "execution_count": 20,
   "id": "opposite-fundamentals",
   "metadata": {},
   "outputs": [
    {
     "name": "stdout",
     "output_type": "stream",
     "text": [
      "zsh:1: command not found: nvidia-smi\n"
     ]
    }
   ],
   "source": [
    "!nvidia-smi"
   ]
  },
  {
   "cell_type": "markdown",
   "id": "alert-integration",
   "metadata": {},
   "source": [
    "## OK what about CPU and memory"
   ]
  },
  {
   "cell_type": "code",
   "execution_count": 19,
   "id": "hollywood-genome",
   "metadata": {},
   "outputs": [
    {
     "name": "stdout",
     "output_type": "stream",
     "text": [
      "cat: /proc/cpuinfo: No such file or directory\n",
      "cat: /proc/meminfo: No such file or directory\n"
     ]
    }
   ],
   "source": [
    "!cat /proc/cpuinfo\n",
    "!cat /proc/meminfo"
   ]
  },
  {
   "cell_type": "code",
   "execution_count": null,
   "id": "russian-claim",
   "metadata": {},
   "outputs": [],
   "source": []
  }
 ],
 "metadata": {
  "kernelspec": {
   "display_name": "Python 3",
   "language": "python",
   "name": "python3"
  },
  "language_info": {
   "codemirror_mode": {
    "name": "ipython",
    "version": 3
   },
   "file_extension": ".py",
   "mimetype": "text/x-python",
   "name": "python",
   "nbconvert_exporter": "python",
   "pygments_lexer": "ipython3",
   "version": "3.8.1"
  }
 },
 "nbformat": 4,
 "nbformat_minor": 5
}
