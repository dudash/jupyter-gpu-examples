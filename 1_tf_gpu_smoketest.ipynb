{
 "cells": [
  {
   "cell_type": "markdown",
   "id": "unusual-lingerie",
   "metadata": {},
   "source": [
    "# GPUs are a must for data science\n",
    "GPUs increase performance of data science activities significantly. This notebook checks if your GPU is properly configured and available to be leveraged.\n",
    "\n",
    "- [Read TensorFlow docs here](https://www.tensorflow.org/api_docs/python/tf/all_symbols)\n",
    "- [Tensor GPU Docs](https://www.tensorflow.org/guide/gpu)\n",
    "\n",
    "Note: as per TensorFlow docs \"TensorFlow code, and tf.keras models will transparently run on a single GPU with no code changes required. The simplest way to run on multiple GPUs, on one or many machines, is using Distribution Strategies.\""
   ]
  },
  {
   "cell_type": "markdown",
   "id": "satellite-dispute",
   "metadata": {},
   "source": [
    "## Check the number of GPUs"
   ]
  },
  {
   "cell_type": "code",
   "execution_count": 5,
   "id": "upset-difficulty",
   "metadata": {},
   "outputs": [
    {
     "name": "stdout",
     "output_type": "stream",
     "text": [
      "Physical GPUs count 0\n"
     ]
    }
   ],
   "source": [
    "import tensorflow as tf\n",
    "gpus = tf.config.list_physical_devices('GPU')\n",
    "print(\"Physical GPUs count\", len(gpus))"
   ]
  },
  {
   "cell_type": "markdown",
   "id": "intermediate-variety",
   "metadata": {},
   "source": [
    "## See what else TensorFlow can tell us"
   ]
  },
  {
   "cell_type": "code",
   "execution_count": 8,
   "id": "electoral-toyota",
   "metadata": {},
   "outputs": [
    {
     "data": {
      "text/plain": [
       "[name: \"/device:CPU:0\"\n",
       " device_type: \"CPU\"\n",
       " memory_limit: 268435456\n",
       " locality {\n",
       " }\n",
       " incarnation: 13739859749333745835]"
      ]
     },
     "execution_count": 8,
     "metadata": {},
     "output_type": "execute_result"
    }
   ],
   "source": [
    "from tensorflow.python.client import device_lib\n",
    "device_lib.list_local_devices()"
   ]
  },
  {
   "cell_type": "markdown",
   "id": "elegant-soviet",
   "metadata": {},
   "source": [
    "## Display details using NVIDIA System Management Interface"
   ]
  },
  {
   "cell_type": "code",
   "execution_count": 20,
   "id": "preliminary-commission",
   "metadata": {},
   "outputs": [
    {
     "name": "stdout",
     "output_type": "stream",
     "text": [
      "zsh:1: command not found: nvidia-smi\n"
     ]
    }
   ],
   "source": [
    "!nvidia-smi"
   ]
  },
  {
   "cell_type": "markdown",
   "id": "convertible-judgment",
   "metadata": {},
   "source": [
    "## OK what about CPU and memory"
   ]
  },
  {
   "cell_type": "code",
   "execution_count": 19,
   "id": "leading-cable",
   "metadata": {},
   "outputs": [
    {
     "name": "stdout",
     "output_type": "stream",
     "text": [
      "cat: /proc/cpuinfo: No such file or directory\n",
      "cat: /proc/meminfo: No such file or directory\n"
     ]
    }
   ],
   "source": [
    "!cat /proc/cpuinfo\n",
    "!cat /proc/meminfo"
   ]
  },
  {
   "cell_type": "markdown",
   "id": "satisfactory-marshall",
   "metadata": {},
   "source": [
    "## Let's try to do some Maths"
   ]
  },
  {
   "cell_type": "code",
   "execution_count": 17,
   "id": "alike-humidity",
   "metadata": {},
   "outputs": [
    {
     "name": "stdout",
     "output_type": "stream",
     "text": [
      "tf.Tensor(\n",
      "[[22. 28.]\n",
      " [49. 64.]], shape=(2, 2), dtype=float32)\n"
     ]
    }
   ],
   "source": [
    "tf.debugging.set_log_device_placement(True)\n",
    "\n",
    "# Create some tensors - should use the GPU if available\n",
    "a = tf.constant([[1.0, 2.0, 3.0], [4.0, 5.0, 6.0]])\n",
    "b = tf.constant([[1.0, 2.0], [3.0, 4.0], [5.0, 6.0]])\n",
    "c = tf.matmul(a, b)\n",
    "\n",
    "print(c)"
   ]
  },
  {
   "cell_type": "code",
   "execution_count": 20,
   "id": "boolean-reproduction",
   "metadata": {},
   "outputs": [
    {
     "name": "stdout",
     "output_type": "stream",
     "text": [
      "tf.Tensor(\n",
      "[[22. 28.]\n",
      " [49. 64.]], shape=(2, 2), dtype=float32)\n"
     ]
    }
   ],
   "source": [
    "tf.debugging.set_log_device_placement(True)\n",
    "\n",
    "# Place tensors on the CPU\n",
    "with tf.device('/CPU:0'):\n",
    "  a = tf.constant([[1.0, 2.0, 3.0], [4.0, 5.0, 6.0]])\n",
    "  b = tf.constant([[1.0, 2.0], [3.0, 4.0], [5.0, 6.0]])\n",
    "\n",
    "# Run on the GPU\n",
    "c = tf.matmul(a, b)\n",
    "print(c)"
   ]
  },
  {
   "cell_type": "markdown",
   "id": "prostate-athens",
   "metadata": {},
   "source": [
    "## Try distributing across the GPUs - if you have more than one"
   ]
  },
  {
   "cell_type": "code",
   "execution_count": 19,
   "id": "supported-romantic",
   "metadata": {},
   "outputs": [
    {
     "name": "stdout",
     "output_type": "stream",
     "text": [
      "WARNING:tensorflow:There are non-GPU devices in `tf.distribute.Strategy`, not using nccl allreduce.\n",
      "INFO:tensorflow:Using MirroredStrategy with devices ('/job:localhost/replica:0/task:0/device:CPU:0',)\n"
     ]
    }
   ],
   "source": [
    "tf.debugging.set_log_device_placement(True)\n",
    "\n",
    "strategy = tf.distribute.MirroredStrategy()\n",
    "with strategy.scope():\n",
    "  inputs = tf.keras.layers.Input(shape=(1,))\n",
    "  predictions = tf.keras.layers.Dense(1)(inputs)\n",
    "  model = tf.keras.models.Model(inputs=inputs, outputs=predictions)\n",
    "  model.compile(loss='mse',\n",
    "                optimizer=tf.keras.optimizers.SGD(learning_rate=0.2))\n",
    "    "
   ]
  }
 ],
 "metadata": {
  "kernelspec": {
   "display_name": "Python 3",
   "language": "python",
   "name": "python3"
  },
  "language_info": {
   "codemirror_mode": {
    "name": "ipython",
    "version": 3
   },
   "file_extension": ".py",
   "mimetype": "text/x-python",
   "name": "python",
   "nbconvert_exporter": "python",
   "pygments_lexer": "ipython3",
   "version": "3.8.1"
  }
 },
 "nbformat": 4,
 "nbformat_minor": 5
}
